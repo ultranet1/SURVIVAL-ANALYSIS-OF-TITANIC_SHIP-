{
 "cells": [
  {
   "cell_type": "markdown",
   "metadata": {},
   "source": [
    "# IMPORT LIBRARY"
   ]
  },
  {
   "cell_type": "code",
   "execution_count": 65,
   "metadata": {},
   "outputs": [],
   "source": [
    "import numpy as np\n",
    "import pandas as pd\n",
    "import matplotlib.pyplot as plt\n",
    "import seaborn as sns\n",
    "import sweetviz as sv\n",
    "%matplotlib inline\n"
   ]
  },
  {
   "cell_type": "markdown",
   "metadata": {},
   "source": [
    "# Import dataset from seaborn with load_dataset function"
   ]
  },
  {
   "cell_type": "code",
   "execution_count": 66,
   "metadata": {},
   "outputs": [
    {
     "name": "stdout",
     "output_type": "stream",
     "text": [
      "<class 'pandas.core.frame.DataFrame'>\n",
      "RangeIndex: 891 entries, 0 to 890\n",
      "Data columns (total 15 columns):\n",
      " #   Column       Non-Null Count  Dtype   \n",
      "---  ------       --------------  -----   \n",
      " 0   survived     891 non-null    int64   \n",
      " 1   pclass       891 non-null    int64   \n",
      " 2   sex          891 non-null    object  \n",
      " 3   age          714 non-null    float64 \n",
      " 4   sibsp        891 non-null    int64   \n",
      " 5   parch        891 non-null    int64   \n",
      " 6   fare         891 non-null    float64 \n",
      " 7   embarked     889 non-null    object  \n",
      " 8   class        891 non-null    category\n",
      " 9   who          891 non-null    object  \n",
      " 10  adult_male   891 non-null    bool    \n",
      " 11  deck         203 non-null    category\n",
      " 12  embark_town  889 non-null    object  \n",
      " 13  alive        891 non-null    object  \n",
      " 14  alone        891 non-null    bool    \n",
      "dtypes: bool(2), category(2), float64(2), int64(4), object(5)\n",
      "memory usage: 80.6+ KB\n",
      "None\n"
     ]
    }
   ],
   "source": [
    "dtst=sns.load_dataset('titanic')\n",
    "print(dtst.info())"
   ]
  },
  {
   "cell_type": "markdown",
   "metadata": {},
   "source": [
    "# Convert dataset into DataFrame using panda\n"
   ]
  },
  {
   "cell_type": "code",
   "execution_count": 67,
   "metadata": {
    "scrolled": true
   },
   "outputs": [
    {
     "name": "stdout",
     "output_type": "stream",
     "text": [
      "     survived  pclass     sex   age  sibsp  parch     fare embarked   class  \\\n",
      "0           0       3    male  22.0      1      0   7.2500        S   Third   \n",
      "1           1       1  female  38.0      1      0  71.2833        C   First   \n",
      "2           1       3  female  26.0      0      0   7.9250        S   Third   \n",
      "3           1       1  female  35.0      1      0  53.1000        S   First   \n",
      "4           0       3    male  35.0      0      0   8.0500        S   Third   \n",
      "..        ...     ...     ...   ...    ...    ...      ...      ...     ...   \n",
      "886         0       2    male  27.0      0      0  13.0000        S  Second   \n",
      "887         1       1  female  19.0      0      0  30.0000        S   First   \n",
      "888         0       3  female   NaN      1      2  23.4500        S   Third   \n",
      "889         1       1    male  26.0      0      0  30.0000        C   First   \n",
      "890         0       3    male  32.0      0      0   7.7500        Q   Third   \n",
      "\n",
      "       who  adult_male deck  embark_town alive  alone  \n",
      "0      man        True  NaN  Southampton    no  False  \n",
      "1    woman       False    C    Cherbourg   yes  False  \n",
      "2    woman       False  NaN  Southampton   yes   True  \n",
      "3    woman       False    C  Southampton   yes  False  \n",
      "4      man        True  NaN  Southampton    no   True  \n",
      "..     ...         ...  ...          ...   ...    ...  \n",
      "886    man        True  NaN  Southampton    no   True  \n",
      "887  woman       False    B  Southampton   yes   True  \n",
      "888  woman       False  NaN  Southampton    no  False  \n",
      "889    man        True    C    Cherbourg   yes   True  \n",
      "890    man        True  NaN   Queenstown    no   True  \n",
      "\n",
      "[891 rows x 15 columns]\n"
     ]
    }
   ],
   "source": [
    "dt_frame=pd.DataFrame(dtst)\n",
    "print(dt_frame)"
   ]
  },
  {
   "cell_type": "markdown",
   "metadata": {},
   "source": [
    "# As you can see, there are 14 columns and  890 rows, but we only need 7 columns, so we shal trim the dataset.\n"
   ]
  },
  {
   "cell_type": "code",
   "execution_count": 68,
   "metadata": {},
   "outputs": [
    {
     "name": "stdout",
     "output_type": "stream",
     "text": [
      "     survived  pclass     sex   age     fare  embark_town deck\n",
      "0           0       3    male  22.0   7.2500  Southampton  NaN\n",
      "1           1       1  female  38.0  71.2833    Cherbourg    C\n",
      "2           1       3  female  26.0   7.9250  Southampton  NaN\n",
      "3           1       1  female  35.0  53.1000  Southampton    C\n",
      "4           0       3    male  35.0   8.0500  Southampton  NaN\n",
      "..        ...     ...     ...   ...      ...          ...  ...\n",
      "886         0       2    male  27.0  13.0000  Southampton  NaN\n",
      "887         1       1  female  19.0  30.0000  Southampton    B\n",
      "888         0       3  female   NaN  23.4500  Southampton  NaN\n",
      "889         1       1    male  26.0  30.0000    Cherbourg    C\n",
      "890         0       3    male  32.0   7.7500   Queenstown  NaN\n",
      "\n",
      "[891 rows x 7 columns]\n"
     ]
    }
   ],
   "source": [
    "trim_d=dt_frame[['survived', 'pclass', 'sex', 'age', 'fare', 'embark_town', 'deck']]  \n",
    "print(trim_d)"
   ]
  },
  {
   "cell_type": "markdown",
   "metadata": {},
   "source": [
    "# Some of the columns data are missing, especially 'age' & 'deck'... \n",
    "\n",
    "#So we shall replace NaN with mean of the column(for age).\n",
    "#So what of deck? \n",
    "#Well, the missing data is very large (787), so trying to input the NaN with mean or mode will tilt the analysis to bias.\n",
    "#The two approach is to either use model to predict missing value, or to delete them. We will choose the later.\n",
    "\n",
    "##so what's the mean of age? \n"
   ]
  },
  {
   "cell_type": "markdown",
   "metadata": {},
   "source": [
    "# print(trim_d['age'].mean())"
   ]
  },
  {
   "cell_type": "markdown",
   "metadata": {},
   "source": [
    "# for 'deck'"
   ]
  },
  {
   "cell_type": "code",
   "execution_count": 69,
   "metadata": {},
   "outputs": [
    {
     "name": "stdout",
     "output_type": "stream",
     "text": [
      "1      C\n",
      "3      C\n",
      "6      E\n",
      "10     G\n",
      "11     C\n",
      "      ..\n",
      "871    D\n",
      "872    B\n",
      "879    C\n",
      "887    B\n",
      "889    C\n",
      "Name: deck, Length: 203, dtype: category\n",
      "Categories (7, object): [A, B, C, D, E, F, G]\n"
     ]
    }
   ],
   "source": [
    "print(trim_d['deck'].dropna())  "
   ]
  },
  {
   "cell_type": "markdown",
   "metadata": {},
   "source": [
    "#For age, 29.7 is the mean. For deck, we delete the NaN. \n",
    "#so we replace NaN with 29.7 in feature 'age'"
   ]
  },
  {
   "cell_type": "code",
   "execution_count": 70,
   "metadata": {},
   "outputs": [
    {
     "name": "stdout",
     "output_type": "stream",
     "text": [
      "0      22.0\n",
      "1      38.0\n",
      "2      26.0\n",
      "3      35.0\n",
      "4      35.0\n",
      "       ... \n",
      "886    27.0\n",
      "887    19.0\n",
      "888    29.7\n",
      "889    26.0\n",
      "890    32.0\n",
      "Name: age, Length: 891, dtype: float64\n"
     ]
    },
    {
     "name": "stderr",
     "output_type": "stream",
     "text": [
      "\n",
      "A value is trying to be set on a copy of a slice from a DataFrame.\n",
      "Try using .loc[row_indexer,col_indexer] = value instead\n",
      "\n",
      "See the caveats in the documentation: https://pandas.pydata.org/pandas-docs/stable/user_guide/indexing.html#returning-a-view-versus-a-copy\n",
      "\n",
      "A value is trying to be set on a copy of a slice from a DataFrame.\n",
      "Try using .loc[row_indexer,col_indexer] = value instead\n",
      "\n",
      "See the caveats in the documentation: https://pandas.pydata.org/pandas-docs/stable/user_guide/indexing.html#returning-a-view-versus-a-copy\n"
     ]
    }
   ],
   "source": [
    "trim_d['age']=trim_d['age'].fillna(29.7)\n",
    "print(trim_d['age'])\n",
    "trim_d['deck']=trim_d['deck'].dropna()\n"
   ]
  },
  {
   "cell_type": "code",
   "execution_count": 71,
   "metadata": {},
   "outputs": [
    {
     "data": {
      "image/png": "[encoded data removed]",
      "text/plain": [
       "<Figure size 432x288 with 1 Axes>"
      ]
     },
     "metadata": {
      "needs_background": "light"
     },
     "output_type": "display_data"
    }
   ],
   "source": [
    "fig=plt.figure() \n",
    "ax=plt.axes() \n",
    "plot1=trim_d['embark_town'].value_counts()\n",
    "plt.style.use('ggplot')\n",
    "plot1.plot(kind='bar') \n",
    "plt.xlabel('Passenger town')\n",
    "plt.ylabel('frequency') \n",
    "plt.title('Titanic passengers')\n",
    "plt.show()"
   ]
  },
  {
   "cell_type": "code",
   "execution_count": null,
   "metadata": {},
   "outputs": [],
   "source": []
  },
  {
   "cell_type": "markdown",
   "metadata": {},
   "source": [
    "# From the column 'embark_town', most passengers are from Southampton(644), with Cherboug(168) and Queenstown (76) with the least"
   ]
  },
  {
   "cell_type": "code",
   "execution_count": 72,
   "metadata": {},
   "outputs": [
    {
     "data": {
      "image/png": "[encoded data removed]",
      "text/plain": [
       "<Figure size 432x288 with 1 Axes>"
      ]
     },
     "metadata": {},
     "output_type": "display_data"
    }
   ],
   "source": [
    "fig=plt.figure() \n",
    "ax=plt.axes() \n",
    "plot1=trim_d['deck'].value_counts()\n",
    "plt.style.use('ggplot')\n",
    "plot1.plot(kind='bar') \n",
    "plt.xlabel('deck')\n",
    "plt.ylabel('frequency') \n",
    "plt.title('Passenger Deck')\n",
    "plt.show() "
   ]
  },
  {
   "cell_type": "markdown",
   "metadata": {},
   "source": [
    "As we can see, Most passengers are on deck C(59) and B(47). \n",
    "Other decks are D(33),E(32). F(13)& G(4) have the least passengers"
   ]
  },
  {
   "cell_type": "markdown",
   "metadata": {},
   "source": [
    "# We would performed bivariate analysis on 'embark_town' & 'deck' to check for relationships. \n"
   ]
  },
  {
   "cell_type": "markdown",
   "metadata": {},
   "source": [
    "# We used Grouped bar plots as bivariate analysis to see the relationship. \n",
    "The decks  are on the x-axis\n",
    "and it contains segments of 'embark_towns' in percentage.\n"
   ]
  },
  {
   "cell_type": "markdown",
   "metadata": {},
   "source": [
    "# Southampton =RED\n",
    "## Cherbourg = BLUE \n",
    "## Queenstown= PURPLE"
   ]
  },
  {
   "cell_type": "code",
   "execution_count": 73,
   "metadata": {
    "scrolled": false
   },
   "outputs": [
    {
     "name": "stderr",
     "output_type": "stream",
     "text": [
      "Pass the following variable as a keyword arg: x. From version 0.12, the only valid positional argument will be `data`, and passing other arguments without an explicit keyword will result in an error or misinterpretation.\n"
     ]
    },
    {
     "data": {
      "text/plain": [
       "<seaborn.axisgrid.FacetGrid at 0x77399bb580>"
      ]
     },
     "execution_count": 73,
     "metadata": {},
     "output_type": "execute_result"
    },
    {
     "data": {
      "image/png": "[encoded data removed]",
      "text/plain": [
       "<Figure size 463.125x360 with 1 Axes>"
      ]
     },
     "metadata": {},
     "output_type": "display_data"
    }
   ],
   "source": [
    " sns. catplot('deck', data=trim_d, kind='count', hue='embark_town', order=['A','B', 'C', 'D', 'E', 'F', 'G'], \n",
    "               hue_order=['Southampton','Cherbourg','Queenstown'],aspect=1)"
   ]
  },
  {
   "cell_type": "markdown",
   "metadata": {
    "scrolled": false
   },
   "source": [
    "# It's seen that passengers from 'Southampton' dominates all deck, while passengers from 'Queenstown' are present only in C, E & F. \n",
    "\n"
   ]
  },
  {
   "cell_type": "markdown",
   "metadata": {},
   "source": [
    "# Can we say that... \n",
    "#could it be that the ship starts from Southampton, where it took most of its passengers, then pass through Cherbourg and lastly to Queenstown to fill up? \n",
    "\n",
    "maybe."
   ]
  },
  {
   "cell_type": "markdown",
   "metadata": {},
   "source": [
    "# To get the relationship between deck, embark town and survivals... \n",
    "\n",
    "## We shall be using grouped bar to classify the decks. "
   ]
  },
  {
   "cell_type": "code",
   "execution_count": 74,
   "metadata": {},
   "outputs": [
    {
     "name": "stderr",
     "output_type": "stream",
     "text": [
      "Pass the following variable as a keyword arg: x. From version 0.12, the only valid positional argument will be `data`, and passing other arguments without an explicit keyword will result in an error or misinterpretation.\n"
     ]
    },
    {
     "data": {
      "text/plain": [
       "<seaborn.axisgrid.FacetGrid at 0x7738ba7af0>"
      ]
     },
     "execution_count": 74,
     "metadata": {},
     "output_type": "execute_result"
    },
    {
     "data": {
      "image/png": "[encoded data removed]",
      "text/plain": [
       "<Figure size 410.875x360 with 1 Axes>"
      ]
     },
     "metadata": {},
     "output_type": "display_data"
    }
   ],
   "source": [
    " sns. catplot('deck', data=trim_d, kind='count', hue='survived', order=['A','B', 'C', 'D', 'E', 'F', 'G'], \n",
    "               hue_order=[1,0], aspect=1)"
   ]
  },
  {
   "cell_type": "code",
   "execution_count": null,
   "metadata": {},
   "outputs": [],
   "source": []
  },
  {
   "cell_type": "markdown",
   "metadata": {},
   "source": [
    "# Majority of survivals are passengers from deck 'B', 'C', 'D' & E"
   ]
  },
  {
   "cell_type": "code",
   "execution_count": 75,
   "metadata": {},
   "outputs": [
    {
     "name": "stderr",
     "output_type": "stream",
     "text": [
      "Pass the following variable as a keyword arg: x. From version 0.12, the only valid positional argument will be `data`, and passing other arguments without an explicit keyword will result in an error or misinterpretation.\n"
     ]
    },
    {
     "data": {
      "text/plain": [
       "<seaborn.axisgrid.FacetGrid at 0x773919d130>"
      ]
     },
     "execution_count": 75,
     "metadata": {},
     "output_type": "execute_result"
    },
    {
     "data": {
      "image/png": "[encoded data removed]",
      "text/plain": [
       "<Figure size 410.875x360 with 1 Axes>"
      ]
     },
     "metadata": {},
     "output_type": "display_data"
    }
   ],
   "source": [
    "sns. catplot('embark_town', data=trim_d, kind='count', hue='survived', order=['Southampton', 'Cherbourg', 'Queenstown'], \n",
    "               hue_order=[1,0], aspect=1)"
   ]
  },
  {
   "cell_type": "markdown",
   "metadata": {},
   "source": [
    "# Despite 'Southampton' being the town with largest passengers, most of them never survived, although, those who survived are still much more than survivals from other towns. \n",
    "\n",
    "## The survived passengers from Cherbourg are more than the dead ones."
   ]
  },
  {
   "cell_type": "markdown",
   "metadata": {},
   "source": [
    "# I USED A TWO-WAY ANOVA TO CHECK FOR CORRELATIONS"
   ]
  },
  {
   "cell_type": "code",
   "execution_count": 76,
   "metadata": {},
   "outputs": [],
   "source": [
    "import statsmodels.api as sm\n",
    "from statsmodels.formula.api import ols\n",
    "\n",
    "  "
   ]
  },
  {
   "cell_type": "code",
   "execution_count": 77,
   "metadata": {
    "scrolled": false
   },
   "outputs": [
    {
     "name": "stderr",
     "output_type": "stream",
     "text": [
      "covariance of constraints does not have full rank. The number of constraints is 12, but rank is 9\n"
     ]
    },
    {
     "data": {
      "text/html": [
       "<div>\n",
       "<style scoped>\n",
       "    .dataframe tbody tr th:only-of-type {\n",
       "        vertical-align: middle;\n",
       "    }\n",
       "\n",
       "    .dataframe tbody tr th {\n",
       "        vertical-align: top;\n",
       "    }\n",
       "\n",
       "    .dataframe thead th {\n",
       "        text-align: right;\n",
       "    }\n",
       "</style>\n",
       "<table border=\"1\" class=\"dataframe\">\n",
       "  <thead>\n",
       "    <tr style=\"text-align: right;\">\n",
       "      <th></th>\n",
       "      <th>sum_sq</th>\n",
       "      <th>df</th>\n",
       "      <th>F</th>\n",
       "      <th>PR(&gt;F)</th>\n",
       "    </tr>\n",
       "  </thead>\n",
       "  <tbody>\n",
       "    <tr>\n",
       "      <th>Intercept</th>\n",
       "      <td>2.285714</td>\n",
       "      <td>1.0</td>\n",
       "      <td>10.225236</td>\n",
       "      <td>0.001630</td>\n",
       "    </tr>\n",
       "    <tr>\n",
       "      <th>C(embark_town)</th>\n",
       "      <td>0.507241</td>\n",
       "      <td>2.0</td>\n",
       "      <td>1.134582</td>\n",
       "      <td>0.323784</td>\n",
       "    </tr>\n",
       "    <tr>\n",
       "      <th>C(deck)</th>\n",
       "      <td>0.916364</td>\n",
       "      <td>6.0</td>\n",
       "      <td>0.683232</td>\n",
       "      <td>0.663385</td>\n",
       "    </tr>\n",
       "    <tr>\n",
       "      <th>C(embark_town):C(deck)</th>\n",
       "      <td>1.219272</td>\n",
       "      <td>12.0</td>\n",
       "      <td>0.454539</td>\n",
       "      <td>0.903179</td>\n",
       "    </tr>\n",
       "    <tr>\n",
       "      <th>Residual</th>\n",
       "      <td>41.354267</td>\n",
       "      <td>185.0</td>\n",
       "      <td>NaN</td>\n",
       "      <td>NaN</td>\n",
       "    </tr>\n",
       "  </tbody>\n",
       "</table>\n",
       "</div>"
      ],
      "text/plain": [
       "                           sum_sq     df          F    PR(>F)\n",
       "Intercept                2.285714    1.0  10.225236  0.001630\n",
       "C(embark_town)           0.507241    2.0   1.134582  0.323784\n",
       "C(deck)                  0.916364    6.0   0.683232  0.663385\n",
       "C(embark_town):C(deck)   1.219272   12.0   0.454539  0.903179\n",
       "Residual                41.354267  185.0        NaN       NaN"
      ]
     },
     "execution_count": 77,
     "metadata": {},
     "output_type": "execute_result"
    }
   ],
   "source": [
    "two_anova=ols('survived ~ C(embark_town)  + C(deck) + C(embark_town):C(deck)', data=trim_d).fit()\n",
    "sm.stats.anova_lm(two_anova, typ=3)"
   ]
  },
  {
   "cell_type": "markdown",
   "metadata": {},
   "source": [
    "# Since Pr(>F)  is more than .05,embark_town is highly correlated with survived  \n"
   ]
  }
 ],
 "metadata": {
  "kernelspec": {
   "display_name": "Python 3",
   "language": "python",
   "name": "python3"
  },
  "language_info": {
   "codemirror_mode": {
    "name": "ipython",
    "version": 3
   },
   "file_extension": ".py",
   "mimetype": "text/x-python",
   "name": "python",
   "nbconvert_exporter": "python",
   "pygments_lexer": "ipython3",
   "version": "3.8.3"
  }
 },
 "nbformat": 4,
 "nbformat_minor": 4
}
